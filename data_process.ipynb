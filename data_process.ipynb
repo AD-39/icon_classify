{
 "cells": [
  {
   "cell_type": "code",
   "execution_count": 1,
   "source": [
    "import os\r\n",
    "from PIL import Image\r\n",
    "import random\r\n",
    "import shutil"
   ],
   "outputs": [],
   "metadata": {}
  },
  {
   "cell_type": "code",
   "execution_count": 2,
   "source": [
    "source_dir = './icon'\r\n",
    "train_dir = './train'\r\n",
    "val_dir = './val'\r\n",
    "val_rate = 0.1\r\n",
    "image_width = 128\r\n",
    "image_height = 128"
   ],
   "outputs": [],
   "metadata": {}
  },
  {
   "cell_type": "code",
   "execution_count": 5,
   "source": [
    "class_name_list = os.listdir(source_dir)\r\n",
    "\r\n",
    "train_cnt = 0\r\n",
    "val_cnt = 0\r\n",
    "total_cnt = 0\r\n",
    "\r\n",
    "angles = [0, 90, 180, 270]\r\n",
    "for class_name in class_name_list:\r\n",
    "    class_dir = os.path.join(source_dir, class_name)\r\n",
    "    pic_name_list = os.listdir(class_dir)\r\n",
    "    i, j = 0, 0\r\n",
    "    for pic_name in pic_name_list:\r\n",
    "        total_cnt += 1\r\n",
    "        #站4_1000052_35_ACLineEnd_180_1200021.jpg\r\n",
    "        pic_path = os.path.join(class_dir, pic_name)\r\n",
    "        \r\n",
    "        im = Image.open(pic_path)\r\n",
    "        out = im.resize((image_width, image_height), Image.ANTIALIAS)\r\n",
    "        orgin_angle = int(pic_name.split('_')[-2])\r\n",
    "        out = out.convert('1').rotate(360 - orgin_angle)\r\n",
    "\r\n",
    "        if random.random() < val_rate:\r\n",
    "            val_cnt += 4\r\n",
    "            for angle in angles:\r\n",
    "                rotated = out.rotate(angle)\r\n",
    "                name = f'{class_name}_{i}_{angle}.jpg'\r\n",
    "                i += 1\r\n",
    "                target_path = os.path.join(val_dir, name)\r\n",
    "                rotated.save(target_path)\r\n",
    "        else:\r\n",
    "            train_cnt += 4\r\n",
    "            for angle in angles:\r\n",
    "                rotated = out.rotate(angle)\r\n",
    "                name = f'{class_name}_{j}_{angle}.jpg'\r\n",
    "                j += 1\r\n",
    "                target_path = os.path.join(train_dir, name)\r\n",
    "                rotated.save(target_path)\r\n",
    "        \r\n",
    "print(f'total = {total_cnt}\\ttrain_cnt = {train_cnt}\\tval_cnt = {val_cnt}')"
   ],
   "outputs": [
    {
     "output_type": "stream",
     "name": "stdout",
     "text": [
      "total = 1864\ttrain_cnt = 6716\tval_cnt = 740\n"
     ]
    }
   ],
   "metadata": {}
  }
 ],
 "metadata": {
  "orig_nbformat": 4,
  "language_info": {
   "name": "python",
   "version": "3.7.0",
   "mimetype": "text/x-python",
   "codemirror_mode": {
    "name": "ipython",
    "version": 3
   },
   "pygments_lexer": "ipython3",
   "nbconvert_exporter": "python",
   "file_extension": ".py"
  },
  "kernelspec": {
   "name": "python3",
   "display_name": "Python 3.7.0 64-bit (conda)"
  },
  "interpreter": {
   "hash": "c406024b5e828a656eaab5d626b751228b732a1e050eadb58b3050c8f7efd11c"
  }
 },
 "nbformat": 4,
 "nbformat_minor": 2
}